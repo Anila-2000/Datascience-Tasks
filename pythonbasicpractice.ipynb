{
 "cells": [
  {
   "cell_type": "markdown",
   "id": "b5fcb89c-c3ff-4d80-94bb-76ac56699356",
   "metadata": {},
   "source": [
    "                                                      PYTHON BASIC PRACTICE PART 1"
   ]
  },
  {
   "cell_type": "markdown",
   "id": "06e4d33f-84d2-485e-a7f3-908a4ebd7795",
   "metadata": {},
   "source": [
    "QUESTION 1 : WRITE A PROGRAM TO ACCEPTS RADIUS OF A CIRCLE FROM USER AND COMPUTE AREA"
   ]
  },
  {
   "cell_type": "code",
   "execution_count": 4,
   "id": "17ce5414-8f4b-462b-88ee-811e7dd9e114",
   "metadata": {},
   "outputs": [
    {
     "name": "stdin",
     "output_type": "stream",
     "text": [
      "enter radius 3\n"
     ]
    },
    {
     "name": "stdout",
     "output_type": "stream",
     "text": [
      "radius of circle = 28.259999999999998\n"
     ]
    }
   ],
   "source": [
    "import numpy as np\n",
    "import pandas as pd\n",
    "r=int(input(\"enter radius\"))\n",
    "Area=3.14*r*r\n",
    "print(\"radius of circle =\", Area)"
   ]
  },
  {
   "cell_type": "markdown",
   "id": "4a0258ba-1b16-4930-b52f-b8cd53a2a672",
   "metadata": {},
   "source": [
    "QUESTION 2 : ACCEPT DETAILS OF A STUDENT AND DISPLAY IT"
   ]
  },
  {
   "cell_type": "code",
   "execution_count": 8,
   "id": "05624f8b-ccd6-4e3e-9b8a-120557c0780b",
   "metadata": {},
   "outputs": [
    {
     "name": "stdin",
     "output_type": "stream",
     "text": [
      "Enter Your Name: Anila shaji\n",
      "Enter Your Rollno: 10\n",
      "Enter Your Mark: 25\n"
     ]
    },
    {
     "name": "stdout",
     "output_type": "stream",
     "text": [
      "NAME: Anila shaji\n",
      "ROLLNUMBER: 10\n",
      "MARK: 25\n"
     ]
    }
   ],
   "source": [
    "Name=input(\"Enter Your Name:\")\n",
    "Rollno=int(input(\"Enter Your Rollno:\"))\n",
    "Mark=int(input(\"Enter Your Mark:\"))\n",
    "print(\"NAME:\",Name)\n",
    "print(\"ROLLNUMBER:\",Rollno)\n",
    "print(\"MARK:\",Mark)"
   ]
  },
  {
   "cell_type": "markdown",
   "id": "63e78d7d-5161-42bd-b31f-2bc6529f8f6e",
   "metadata": {},
   "source": [
    "QUESTION 3 : WRITE A PROGRAM TO GET THE LARGEST NUMBER FROM A LIST"
   ]
  },
  {
   "cell_type": "code",
   "execution_count": 15,
   "id": "516355a6-5a34-442e-b63c-fcc4a7962dee",
   "metadata": {},
   "outputs": [
    {
     "name": "stdout",
     "output_type": "stream",
     "text": [
      "largest number: 5\n"
     ]
    }
   ],
   "source": [
    "my_list=[1,2,5,4,3]\n",
    "largest = my_list[0]\n",
    "for num in my_list:\n",
    "    if num > largest:\n",
    "        largest = num\n",
    "\n",
    "print(\"largest number:\",largest)\n"
   ]
  },
  {
   "cell_type": "markdown",
   "id": "a171ed07-2e0d-48ae-8be2-8cc253c6490a",
   "metadata": {},
   "source": [
    "QUESTION 4 : GIVEN A RANGE OF NUMBER ITRATE FROM START NUM TO END NUMBER AND PRINT SUM OF CURRENT NUM AND PREVIOUS NUM"
   ]
  },
  {
   "cell_type": "code",
   "execution_count": 25,
   "id": "3166d9d8-f6d2-42eb-b13d-93c3628fa589",
   "metadata": {},
   "outputs": [
    {
     "name": "stdin",
     "output_type": "stream",
     "text": [
      "enter starting number 2\n",
      "enter ending number 6\n"
     ]
    },
    {
     "name": "stdout",
     "output_type": "stream",
     "text": [
      "previous number:  1\n",
      "current number:  2\n",
      "Sum of previous number and current number 3\n",
      "previous number:  2\n",
      "current number:  3\n",
      "Sum of previous number and current number 5\n",
      "previous number:  3\n",
      "current number:  4\n",
      "Sum of previous number and current number 7\n",
      "previous number:  4\n",
      "current number:  5\n",
      "Sum of previous number and current number 9\n",
      "previous number:  5\n",
      "current number:  6\n",
      "Sum of previous number and current number 11\n"
     ]
    }
   ],
   "source": [
    "def sum(start, end):\n",
    "    \n",
    "    prev_num = start - 1  #initialize prevnum as start-1\n",
    "\n",
    "    for curr_num in range(start, end + 1):\n",
    "\n",
    "        sum = prev_num + curr_num\n",
    "        print(\"previous number: \" ,prev_num)\n",
    "        print(\"current number: \" ,curr_num)\n",
    "        print(\"Sum of previous number and current number\",sum)\n",
    "        prev_num = curr_num\n",
    "\n",
    "start=int(input(\"enter starting number\"))\n",
    "end=int(input(\"enter ending number\"))\n",
    "\n",
    "sum(start,end)\n",
    "\n"
   ]
  },
  {
   "cell_type": "markdown",
   "id": "3f281669-1216-47c8-a6ad-2f89207e07b5",
   "metadata": {},
   "source": [
    "QUESTION 5 : PRINT NUMBERS THAT ARE DIVISIBLE BY 5 FROM A LIST OF NUMBERS"
   ]
  },
  {
   "cell_type": "code",
   "execution_count": 29,
   "id": "4ac61676-ceaf-4cbf-8888-4960a1b61686",
   "metadata": {},
   "outputs": [
    {
     "name": "stdin",
     "output_type": "stream",
     "text": [
      "Enter a list of numbers with spaces :  2 5 19 15 25 22 30\n"
     ]
    },
    {
     "name": "stdout",
     "output_type": "stream",
     "text": [
      "Numbers divisible by 5: [5, 15, 25, 30]\n"
     ]
    }
   ],
   "source": [
    "numbers = input(\"Enter a list of numbers with spaces : \")\n",
    "numbers = numbers.split()\n",
    "div = []\n",
    "\n",
    "for num in numbers:\n",
    "    if int(num) % 5 == 0:\n",
    "        div.append(int(num))\n",
    "\n",
    "print(\"Numbers divisible by 5:\", div)\n"
   ]
  },
  {
   "cell_type": "markdown",
   "id": "e4620d42-2e31-47df-9d5e-4fb49aaeab48",
   "metadata": {},
   "source": [
    "QUESTION 6 : PROGRAM TO CHECK WHEATHER A NUMBER IS PRIME OR NOT"
   ]
  },
  {
   "cell_type": "code",
   "execution_count": 43,
   "id": "b82ae92c-ddca-4570-abb2-800144bf9766",
   "metadata": {},
   "outputs": [
    {
     "name": "stdin",
     "output_type": "stream",
     "text": [
      "Enter a number:  7\n"
     ]
    },
    {
     "name": "stdout",
     "output_type": "stream",
     "text": [
      "prime number.\n"
     ]
    }
   ],
   "source": [
    "def prime(number):\n",
    "    if number <= 1:\n",
    "        return False\n",
    "    for i in range(2, number):  # Start from 2 up to number-1\n",
    "        if number % i == 0:\n",
    "            return False\n",
    "    return True\n",
    "\n",
    "num = int(input(\"Enter a number: \"))\n",
    "\n",
    "if prime(num):\n",
    "    print(\"prime number.\")\n",
    "else:\n",
    "    print(\"not a prime number.\")\n"
   ]
  },
  {
   "cell_type": "markdown",
   "id": "febd426a-da1f-4e22-96a5-a11f7fd8a196",
   "metadata": {},
   "source": [
    "QUESTION 7 : PROGRAM TO REVERSE A LIST USING LOOP"
   ]
  },
  {
   "cell_type": "code",
   "execution_count": 48,
   "id": "f3ef77e2-b542-47a7-9518-6d3e222e6a70",
   "metadata": {},
   "outputs": [
    {
     "name": "stdout",
     "output_type": "stream",
     "text": [
      "Original list: [10, 20, 30, 40, 50]\n",
      "Reversed list: [50, 40, 30, 20, 10]\n"
     ]
    }
   ],
   "source": [
    "def reverse_list(lst):\n",
    "    reversed_list = []\n",
    "    for item in lst:\n",
    "        reversed_list.insert(0, item)\n",
    "    return reversed_list\n",
    "\n",
    "my_list = [10, 20, 30, 40, 50]\n",
    "reversed_list = reverse_list(my_list)\n",
    "print(\"Original list:\", my_list)\n",
    "print(\"Reversed list:\", reversed_list)\n"
   ]
  },
  {
   "cell_type": "markdown",
   "id": "a01fbb67-82db-4fbf-b5cc-472efd7f87f4",
   "metadata": {},
   "source": [
    "QUESTION 8 : PROGRAM TO PRINT STAR PYRAMID "
   ]
  },
  {
   "cell_type": "code",
   "execution_count": 51,
   "id": "6885c5e0-43ff-4348-a0c9-a33a1d64222d",
   "metadata": {},
   "outputs": [
    {
     "name": "stdin",
     "output_type": "stream",
     "text": [
      "Enter the number of rows for the pyramid:  5\n"
     ]
    },
    {
     "name": "stdout",
     "output_type": "stream",
     "text": [
      "*\n",
      "**\n",
      "***\n",
      "****\n",
      "*****\n"
     ]
    }
   ],
   "source": [
    "def print_star_pyramid(rows):\n",
    "    for i in range(1, rows + 1):\n",
    "        print('*' * i)\n",
    "\n",
    "rows = int(input(\"Enter the number of rows for the pyramid: \"))\n",
    "print_star_pyramid(rows)"
   ]
  },
  {
   "cell_type": "markdown",
   "id": "edb4cfd1-d1d7-4270-ab59-887c33cec551",
   "metadata": {},
   "source": [
    "QUESTION 9 : FIND LARGEST OF 3 THREE NUMBERS"
   ]
  },
  {
   "cell_type": "code",
   "execution_count": 55,
   "id": "3fb89d4c-2d9c-470a-9107-5d7a4073859e",
   "metadata": {},
   "outputs": [
    {
     "name": "stdin",
     "output_type": "stream",
     "text": [
      "Enter first number:  100\n",
      "Enter second number:  200\n",
      "Enter third number:  300\n"
     ]
    },
    {
     "name": "stdout",
     "output_type": "stream",
     "text": [
      "The largest number is:  300\n"
     ]
    }
   ],
   "source": [
    "def largestnum(num1, num2, num3):\n",
    "    \n",
    "    if num1 > num2 and num1 > num3:\n",
    "        return num1\n",
    "    elif num2 > num1 and num2 > num3:\n",
    "        return num2\n",
    "    else:\n",
    "        return num3\n",
    "\n",
    "\n",
    "num1 = int(input(\"Enter first number: \"))\n",
    "num2 = int(input(\"Enter second number: \"))\n",
    "num3 = int(input(\"Enter third number: \"))\n",
    "\n",
    "largest = largestnum(num1, num2, num3)\n",
    "print(\"The largest number is: \", largest)\n"
   ]
  },
  {
   "cell_type": "code",
   "execution_count": null,
   "id": "a361702a-0e24-4699-b9f7-f1d06b468c54",
   "metadata": {},
   "outputs": [],
   "source": [
    "QUESTION 10 : PRINT A STAR PATTERN \n",
    "*\n",
    "**\n",
    "***\n",
    "****\n",
    "*****\n",
    "****\n",
    "***\n",
    "**\n",
    "*"
   ]
  },
  {
   "cell_type": "code",
   "execution_count": 56,
   "id": "0d2c4726-7ce9-49cf-bc1f-0b6125864c93",
   "metadata": {},
   "outputs": [
    {
     "name": "stdout",
     "output_type": "stream",
     "text": [
      "*\n",
      "**\n",
      "***\n",
      "****\n",
      "*****\n",
      "****\n",
      "***\n",
      "**\n",
      "*\n"
     ]
    }
   ],
   "source": [
    "def print_star_pattern(rows):\n",
    "    for i in range(1, rows + 1):\n",
    "        print('*' * i)\n",
    "    \n",
    "    for i in range(rows - 1, 0, -1):\n",
    "        print('*' * i)\n",
    "rows = 5\n",
    "print_star_pattern(rows)\n"
   ]
  },
  {
   "cell_type": "markdown",
   "id": "f1fb1f23-d38b-45a8-a675-3efd470077de",
   "metadata": {},
   "source": [
    "                                                     PYTHON BASIC PRACTICE PART 2"
   ]
  },
  {
   "cell_type": "markdown",
   "id": "303768d4-5fb9-490f-8db1-658f7cd02b4c",
   "metadata": {},
   "source": [
    "PROGRAM TO ACCEPT A STRING VALUE FROM USER AND DISPLAY COUNT OF EACH CHARACTER"
   ]
  },
  {
   "cell_type": "code",
   "execution_count": 5,
   "id": "a80f90f7-8996-451f-b176-866fc6cced32",
   "metadata": {},
   "outputs": [
    {
     "name": "stdin",
     "output_type": "stream",
     "text": [
      "enter a string things to do\n"
     ]
    },
    {
     "name": "stdout",
     "output_type": "stream",
     "text": [
      "Character 't' occurs 2 times\n",
      "Character 'h' occurs 1 times\n",
      "Character 'i' occurs 1 times\n",
      "Character 'n' occurs 1 times\n",
      "Character 'g' occurs 1 times\n",
      "Character 's' occurs 1 times\n",
      "Character ' ' occurs 2 times\n",
      "Character 'o' occurs 2 times\n",
      "Character 'd' occurs 1 times\n"
     ]
    }
   ],
   "source": [
    "def charcount(string):\n",
    "    counts = {}\n",
    "    for char in string:\n",
    "        if char in counts:\n",
    "            counts[char] += 1\n",
    "        else:\n",
    "            counts[char] = 1\n",
    "    for char, count in counts.items():\n",
    "       print(f\"Character '{char}' occurs {count} times\")\n",
    "\n",
    "\n",
    "user_input = input(\"enter a string\")\n",
    "\n",
    "charcount(user_input)"
   ]
  },
  {
   "cell_type": "markdown",
   "id": "1c871c04-9d16-43a9-b36f-a37c5a71a0a6",
   "metadata": {},
   "source": [
    "QUESTION 2 :program to find largest of 3 numbers"
   ]
  },
  {
   "cell_type": "code",
   "execution_count": 7,
   "id": "81775c2f-f4fe-406c-a391-a9e36933634e",
   "metadata": {},
   "outputs": [
    {
     "name": "stdin",
     "output_type": "stream",
     "text": [
      "Enter first number:  10\n",
      "Enter second number:  20\n",
      "Enter third number:  15\n"
     ]
    },
    {
     "name": "stdout",
     "output_type": "stream",
     "text": [
      "The maximum number is:  20\n"
     ]
    }
   ],
   "source": [
    "def maximum(num1, num2, num3):\n",
    "    max_num = num1  \n",
    "    \n",
    "    if num2 > max_num:\n",
    "        max_num = num2\n",
    "    \n",
    "    if num3 > max_num:\n",
    "        max_num = num3\n",
    "    \n",
    "    return max_num\n",
    "\n",
    "\n",
    "num1 = int(input(\"Enter first number: \"))\n",
    "num2 = int(input(\"Enter second number: \"))\n",
    "num3 = int(input(\"Enter third number: \"))\n",
    "\n",
    "max = maximum(num1, num2, num3)\n",
    "print(f\"The maximum number is: \",max )\n"
   ]
  },
  {
   "cell_type": "markdown",
   "id": "9c8138ed-5db0-40a7-aa45-dc082dbeb939",
   "metadata": {},
   "source": [
    "QUESTION 3 : POWER OF A NUMBER"
   ]
  },
  {
   "cell_type": "code",
   "execution_count": 11,
   "id": "8495dcd4-219d-403f-96f8-2d14e1e1944e",
   "metadata": {},
   "outputs": [
    {
     "name": "stdin",
     "output_type": "stream",
     "text": [
      "Enter the base number:  2\n",
      "Enter the exponent:  3\n"
     ]
    },
    {
     "name": "stdout",
     "output_type": "stream",
     "text": [
      "2 raised to the power of 3: 8\n"
     ]
    }
   ],
   "source": [
    "def exponent(base, exp):\n",
    "    result = base ** exp\n",
    "    return result\n",
    "\n",
    "base = int(input(\"Enter the base number: \"))\n",
    "exp = int(input(\"Enter the exponent: \"))\n",
    "\n",
    "result = exponent(base, exp)\n",
    "print(str(base) + \" raised to the power of \" + str(exp) + \":\", result)\n"
   ]
  },
  {
   "cell_type": "markdown",
   "id": "7d701a6b-c4be-479e-8d78-f0a0ea6aeef9",
   "metadata": {},
   "source": [
    "QUESTION 4: PYTHON FUNCTION THAT TAKES POSITIVE INTEGER AND RETURN SUM OF CUBE OF ALL POSITIVE INTEGR LESS THAN THE NUMBER"
   ]
  },
  {
   "cell_type": "code",
   "execution_count": 23,
   "id": "a0bc5d2a-f8eb-4f17-82fa-565339b70618",
   "metadata": {},
   "outputs": [
    {
     "name": "stdin",
     "output_type": "stream",
     "text": [
      "Enter a positive integer:  4\n"
     ]
    },
    {
     "name": "stdout",
     "output_type": "stream",
     "text": [
      "The sum of cubes of all positive integers less than : 36\n"
     ]
    }
   ],
   "source": [
    "def sum_of_cubes(n):\n",
    "    if n <= 0:\n",
    "        return \"Please enter a positive integer greater than zero.\"\n",
    "    \n",
    "    sum_cubes = 0\n",
    "    for i in range(1, n):\n",
    "        sum_cubes += i ** 3\n",
    "    \n",
    "    return sum_cubes\n",
    "\n",
    "num = int(input(\"Enter a positive integer: \"))\n",
    "result = sum_of_cubes(num)\n",
    "print(\"The sum of cubes of all positive integers less than :\" , result)\n",
    "\n"
   ]
  },
  {
   "cell_type": "markdown",
   "id": "fbb55985-848e-4e3e-98fa-c98e7d3fa89d",
   "metadata": {},
   "source": [
    "QUESTION 5 : Write a Python program which iterates from 1 to 10. For multiples of 2, \r\n",
    "print “Fizz” instead of the number and for the multiples of 5, print “Buzz”. \r\n",
    "For numbers which are multiples of both 2 and 5, print “FizzBuzz”. \r\n",
    "Sample input: numbers from 1 to 10 Sample output: 1 Fizz 3 Fizz Buzz \r\n",
    "Fizz 7 Fizz 9 FizzBuzz"
   ]
  },
  {
   "cell_type": "code",
   "execution_count": 14,
   "id": "c125fe4b-ad7b-4e8e-a93c-c70adeb79e8b",
   "metadata": {},
   "outputs": [
    {
     "name": "stdout",
     "output_type": "stream",
     "text": [
      "1\n",
      "Fizz\n",
      "3\n",
      "Fizz\n",
      "Buzz\n",
      "Fizz\n",
      "7\n",
      "Fizz\n",
      "9\n",
      "FizzBuzz\n"
     ]
    }
   ],
   "source": [
    "def fizz_buzz():\n",
    "    for num in range(1, 11):\n",
    "        if num % 2 == 0 and num % 5 == 0:\n",
    "            print(\"FizzBuzz\")\n",
    "        elif num % 2 == 0:\n",
    "            print(\"Fizz\")\n",
    "        elif num % 5 == 0:\n",
    "            print(\"Buzz\")\n",
    "        else:\n",
    "            print(num)\n",
    "\n",
    "fizz_buzz()\n"
   ]
  },
  {
   "cell_type": "markdown",
   "id": "55b35d73-4a02-4c2e-9fc8-dc9572d66d88",
   "metadata": {},
   "source": [
    "QUESTION 6:  PROGRAM TO FIND MOST FREEQUENT ITEM IN A LIST OF NUMBERS"
   ]
  },
  {
   "cell_type": "code",
   "execution_count": 16,
   "id": "d7ffe307-4b12-4efc-9d2f-76bf1b65b1a7",
   "metadata": {},
   "outputs": [
    {
     "name": "stdout",
     "output_type": "stream",
     "text": [
      "The most frequent item in the list is: 3\n"
     ]
    }
   ],
   "source": [
    "def freequent(numbers):\n",
    "    max_count = 0\n",
    "    frequent_num = None\n",
    "    \n",
    "    for num in numbers:\n",
    "        count = numbers.count(num)\n",
    "        if count > max_count:\n",
    "            max_count = count\n",
    "            frequent_num = num\n",
    "    \n",
    "    return frequent_num\n",
    "\n",
    "\n",
    "numbers = [1, 3, 6, 3, 7, 3, 1, 2, 7, 1, 3, 5, 3]\n",
    "result = freequent(numbers)\n",
    "print(\"The most frequent item in the list is:\" , result)\n"
   ]
  },
  {
   "cell_type": "markdown",
   "id": "aaae82eb-8585-412d-88cf-752eb64c1317",
   "metadata": {},
   "source": [
    "QUESTION 7: Python program to find the sum of squares of the numbers in a LIST"
   ]
  },
  {
   "cell_type": "code",
   "execution_count": 28,
   "id": "887186b0-3aad-4683-ba65-683c5fce7d01",
   "metadata": {},
   "outputs": [
    {
     "name": "stdin",
     "output_type": "stream",
     "text": [
      "Enter numbers separated by spaces:  1 2 3\n"
     ]
    },
    {
     "name": "stdout",
     "output_type": "stream",
     "text": [
      "The sum of squares of the numbers is:  14\n"
     ]
    }
   ],
   "source": [
    "def sum_of_squares(numbers):\n",
    "    sum_squares = 0\n",
    "    \n",
    "    for num in numbers:\n",
    "        num_int = int(num)\n",
    "        sum_squares += num_int ** 2\n",
    "    \n",
    "    return sum_squares\n",
    "\n",
    "input_numbers = input(\"Enter numbers separated by spaces: \")\n",
    "numbers = [int(num) for num in input_numbers.split(' ')]\n",
    "\n",
    "result = sum_of_squares(numbers)\n",
    "print(\"The sum of squares of the numbers is: \" ,result)\n"
   ]
  },
  {
   "cell_type": "markdown",
   "id": "a10aea9f-ab73-41d3-a6fc-388a75f96d28",
   "metadata": {},
   "source": [
    "PROGRAM 8: USING A LOOP IN A RAGE OF NUMBERS CHECK A NUMBER IS ODD OR EVEN AND DISPLAY"
   ]
  },
  {
   "cell_type": "code",
   "execution_count": 36,
   "id": "5aabfcc8-7d77-4fd2-983c-1505f7275fae",
   "metadata": {},
   "outputs": [
    {
     "name": "stdout",
     "output_type": "stream",
     "text": [
      "1-odd\n",
      "2-even\n",
      "3-odd\n",
      "4-even\n",
      "5-odd\n",
      "6-even\n",
      "7-odd\n",
      "8-even\n",
      "9-odd\n",
      "10-even\n",
      "11-odd\n",
      "12-even\n",
      "13-odd\n",
      "14-even\n",
      "15-odd\n"
     ]
    }
   ],
   "source": [
    "def check(num):\n",
    "    if num % 2 == 0:\n",
    "        return \"even\"\n",
    "    else:\n",
    "        return \"odd\"\n",
    "\n",
    "for num in range(1, 16):\n",
    "    number= check(num)\n",
    "    print(f\"{num}-{number}\")\n",
    "\n"
   ]
  },
  {
   "cell_type": "markdown",
   "id": "1d21589f-8bce-47a9-af51-347160707737",
   "metadata": {},
   "source": [
    "QUESTION 9 : Write a Python program to convert temperatures to and from Celsius \n",
    "Fahrenheit. [Formula: c/5=f-32/9 where c=temperature in Celsius and f= temperature in Fahrenheit.]"
   ]
  },
  {
   "cell_type": "code",
   "execution_count": 37,
   "id": "3b60a293-9f26-472a-a09a-6ec63a4a1847",
   "metadata": {},
   "outputs": [
    {
     "name": "stdin",
     "output_type": "stream",
     "text": [
      "Temperature in Fahrenheit:  41\n"
     ]
    },
    {
     "name": "stdout",
     "output_type": "stream",
     "text": [
      "Temperature in Celsius: 5.0\n"
     ]
    }
   ],
   "source": [
    "def convert(fahrenheit):\n",
    "    celsius = (fahrenheit - 32) * 5 / 9\n",
    "    return celsius\n",
    "\n",
    "fahrenheit = float(input(\"Temperature in Fahrenheit: \"))\n",
    "\n",
    "celsius = convert(fahrenheit)\n",
    "\n",
    "print(\"Temperature in Celsius:\" ,celsius)\n"
   ]
  },
  {
   "cell_type": "markdown",
   "id": "ca067601-21d4-48b4-a1b9-199d69be195f",
   "metadata": {},
   "source": [
    "QUESTION 10 : FACTORIAL OF A NUMBER"
   ]
  },
  {
   "cell_type": "code",
   "execution_count": 42,
   "id": "6e2091df-3e47-4b13-9ce7-cfeac54ab46e",
   "metadata": {},
   "outputs": [
    {
     "name": "stdin",
     "output_type": "stream",
     "text": [
      "Enter a nonnegative integer:  5\n"
     ]
    },
    {
     "name": "stdout",
     "output_type": "stream",
     "text": [
      "The factorial is: 120\n"
     ]
    }
   ],
   "source": [
    "def factorial(n):\n",
    "    if n < 0:\n",
    "        return \"negative numbers not allowed\"\n",
    "    elif n == 0:\n",
    "        return 1\n",
    "    else:\n",
    "        return n * factorial(n - 1)\n",
    "num = int(input(\"Enter a nonnegative integer: \"))\n",
    "fact = factorial(num)\n",
    "print(\"The factorial is:\",fact)\n"
   ]
  },
  {
   "cell_type": "code",
   "execution_count": null,
   "id": "d17da875-04c1-46b5-8050-2779a6438209",
   "metadata": {},
   "outputs": [],
   "source": []
  }
 ],
 "metadata": {
  "kernelspec": {
   "display_name": "Python 3 (ipykernel)",
   "language": "python",
   "name": "python3"
  },
  "language_info": {
   "codemirror_mode": {
    "name": "ipython",
    "version": 3
   },
   "file_extension": ".py",
   "mimetype": "text/x-python",
   "name": "python",
   "nbconvert_exporter": "python",
   "pygments_lexer": "ipython3",
   "version": "3.11.7"
  }
 },
 "nbformat": 4,
 "nbformat_minor": 5
}
